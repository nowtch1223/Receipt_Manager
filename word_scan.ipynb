{
 "cells": [
  {
   "cell_type": "code",
   "execution_count": 13,
   "metadata": {},
   "outputs": [],
   "source": [
    "# 参考URL\n",
    "# https://qiita.com/eiji-noguchi/items/c19c1e125eaa87c3616b\n",
    "# https://rightcode.co.jp/blog/information-technology/python-tesseract-image-processing-ocr"
   ]
  },
  {
   "cell_type": "markdown",
   "metadata": {},
   "source": [
    "英語"
   ]
  },
  {
   "cell_type": "code",
   "execution_count": 16,
   "metadata": {},
   "outputs": [
    {
     "name": "stdout",
     "output_type": "stream",
     "text": [
      "AIUEO\n"
     ]
    }
   ],
   "source": [
    "from PIL import Image\n",
    "import pyocr\n",
    "\n",
    "# OCRエンジンを取得\n",
    "engines = pyocr.get_available_tools()\n",
    "engine = engines[0]\n",
    "\n",
    "# 画像の文字を読み込む\n",
    "builder = pyocr.builders.TextBuilder(tesseract_layout=6)\n",
    "txt = engine.image_to_string(Image.open('./img/aiueo.png'), lang=\"eng\", builder=builder)\n",
    "print(txt) # 「Test Message」が出力される"
   ]
  },
  {
   "cell_type": "markdown",
   "metadata": {},
   "source": [
    "日本語　これを動かす"
   ]
  },
  {
   "cell_type": "code",
   "execution_count": 17,
   "metadata": {},
   "outputs": [
    {
     "name": "stdout",
     "output_type": "stream",
     "text": [
      "あいうえお\n"
     ]
    }
   ],
   "source": [
    "from PIL import Image\n",
    "import pyocr\n",
    "\n",
    "# 画像を開く\n",
    "img = Image.open('./img/jpn_aiueo.png')\n",
    "\n",
    "# OCRエンジンを取得\n",
    "engines = pyocr.get_available_tools()\n",
    "engine = engines[0]\n",
    "\n",
    "# 対応言語取得\n",
    "langs = engine.get_available_languages()\n",
    "#print(\"対応言語:\",langs) # ['eng', 'jpn', 'osd']\n",
    "\n",
    "# 画像の文字を読み込む\n",
    "builder = pyocr.builders.TextBuilder(tesseract_layout=6)\n",
    "txt = engine.image_to_string(img, lang=\"jpn\", builder=builder)\n",
    "print(txt) # print"
   ]
  },
  {
   "cell_type": "code",
   "execution_count": null,
   "metadata": {},
   "outputs": [],
   "source": []
  }
 ],
 "metadata": {
  "kernelspec": {
   "display_name": "Python 3.9.12 ('receipt')",
   "language": "python",
   "name": "python3"
  },
  "language_info": {
   "codemirror_mode": {
    "name": "ipython",
    "version": 3
   },
   "file_extension": ".py",
   "mimetype": "text/x-python",
   "name": "python",
   "nbconvert_exporter": "python",
   "pygments_lexer": "ipython3",
   "version": "3.9.12"
  },
  "orig_nbformat": 4,
  "vscode": {
   "interpreter": {
    "hash": "12442f41d089fcbc0ad4f91a770f34f63a370f0c2efd2c8eb3ceb58999268406"
   }
  }
 },
 "nbformat": 4,
 "nbformat_minor": 2
}
